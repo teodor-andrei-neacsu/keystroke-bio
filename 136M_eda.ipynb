{
 "cells": [
  {
   "cell_type": "code",
   "execution_count": 9,
   "metadata": {},
   "outputs": [],
   "source": [
    "import os\n",
    "import csv\n",
    "import pandas as pd\n",
    "\n",
    "from collections import Counter"
   ]
  },
  {
   "cell_type": "code",
   "execution_count": 10,
   "metadata": {},
   "outputs": [],
   "source": [
    "file_list = os.listdir('./Keystrokes/files/')"
   ]
  },
  {
   "cell_type": "code",
   "execution_count": 11,
   "metadata": {},
   "outputs": [
    {
     "data": {
      "text/plain": [
       "168595"
      ]
     },
     "execution_count": 11,
     "metadata": {},
     "output_type": "execute_result"
    }
   ],
   "source": [
    "len(file_list)"
   ]
  },
  {
   "cell_type": "code",
   "execution_count": 16,
   "metadata": {},
   "outputs": [
    {
     "name": "stdout",
     "output_type": "stream",
     "text": [
      "21833_keystrokes.txt\n",
      "233209_keystrokes.txt\n",
      "485024_keystrokes.txt\n",
      "375416_keystrokes.txt\n",
      "39734_keystrokes.txt\n",
      "34285_keystrokes.txt\n",
      "285679_keystrokes.txt\n",
      "256683_keystrokes.txt\n",
      "206052_keystrokes.txt\n",
      "201699_keystrokes.txt\n",
      "34290_keystrokes.txt\n",
      "191245_keystrokes.txt\n",
      "310089_keystrokes.txt\n",
      "118714_keystrokes.txt\n",
      "168928_keystrokes.txt\n",
      "451600_keystrokes.txt\n",
      "322419_keystrokes.txt\n",
      "157809_keystrokes.txt\n",
      "100813_keystrokes.txt\n",
      "476826_keystrokes.txt\n",
      "167268_keystrokes.txt\n",
      "130272_keystrokes.txt\n",
      "492476_keystrokes.txt\n",
      "158349_keystrokes.txt\n",
      "389754_keystrokes.txt\n",
      "479366_keystrokes.txt\n",
      "512825_keystrokes.txt\n",
      "73006_keystrokes.txt\n",
      "80811_keystrokes.txt\n",
      "300210_keystrokes.txt\n",
      "473009_keystrokes.txt\n",
      "186617_keystrokes.txt\n",
      "389741_keystrokes.txt\n",
      "79369_keystrokes.txt\n",
      "441499_keystrokes.txt\n",
      "41483_keystrokes.txt\n",
      "92479_keystrokes.txt\n",
      "332680_keystrokes.txt\n",
      "446252_keystrokes.txt\n",
      "202361_keystrokes.txt\n",
      "166974_keystrokes.txt\n",
      "397584_keystrokes.txt\n",
      "47941_keystrokes.txt\n",
      "286381_keystrokes.txt\n",
      "371725_keystrokes.txt\n",
      "356903_keystrokes.txt\n",
      "293937_keystrokes.txt\n",
      "260135_keystrokes.txt\n",
      "402529_keystrokes.txt\n",
      "455533_keystrokes.txt\n",
      "356916_keystrokes.txt\n",
      "123506_keystrokes.txt\n",
      "58098_keystrokes.txt\n",
      "408653_keystrokes.txt\n",
      "202374_keystrokes.txt\n",
      "166961_keystrokes.txt\n",
      "397591_keystrokes.txt\n",
      "37768_keystrokes.txt\n",
      "156300_keystrokes.txt\n",
      "304136_keystrokes.txt\n",
      "9624_keystrokes.txt\n",
      "169221_keystrokes.txt\n",
      "35999_keystrokes.txt\n",
      "435983_keystrokes.txt\n",
      "442174_keystrokes.txt\n",
      "15174_keystrokes.txt\n",
      "164790_keystrokes.txt\n",
      "366377_keystrokes.txt\n",
      "462999_keystrokes.txt\n",
      "435996_keystrokes.txt\n",
      "331378_keystrokes.txt\n",
      "4380_keystrokes.txt\n",
      "169234_keystrokes.txt\n",
      "232900_keystrokes.txt\n",
      "459066_keystrokes.txt\n",
      "178049_keystrokes.txt\n",
      "110172_keystrokes.txt\n",
      "203390_keystrokes.txt\n",
      "312595_keystrokes.txt\n",
      "466147_keystrokes.txt\n",
      "31147_keystrokes.txt\n",
      "253541_keystrokes.txt\n",
      "287370_keystrokes.txt\n",
      "172333_keystrokes.txt\n",
      "320105_keystrokes.txt\n",
      "53306_keystrokes.txt\n",
      "199436_keystrokes.txt\n",
      "216933_keystrokes.txt\n",
      "172326_keystrokes.txt\n",
      "320110_keystrokes.txt\n",
      "453309_keystrokes.txt\n",
      "110167_keystrokes.txt\n",
      "61783_keystrokes.txt\n",
      "203385_keystrokes.txt\n",
      "66148_keystrokes.txt\n",
      "396560_keystrokes.txt\n",
      "431148_keystrokes.txt\n",
      "194187_keystrokes.txt\n",
      "342351_keystrokes.txt\n",
      "287365_keystrokes.txt\n",
      "36799_keystrokes.txt\n",
      "459073_keystrokes.txt\n",
      "59069_keystrokes.txt\n",
      "79884_keystrokes.txt\n",
      "290722_keystrokes.txt\n",
      "471515_keystrokes.txt\n",
      "44754_keystrokes.txt\n",
      "434972_keystrokes.txt\n"
     ]
    },
    {
     "ename": "ParserError",
     "evalue": "Error tokenizing data. C error: Expected 9 fields in line 144, saw 10\n",
     "output_type": "error",
     "traceback": [
      "\u001b[0;31m---------------------------------------------------------------------------\u001b[0m",
      "\u001b[0;31mParserError\u001b[0m                               Traceback (most recent call last)",
      "\u001b[1;32m/Users/teo/Desktop/keystroke-bio/136M_eda.ipynb Cell 4\u001b[0m in \u001b[0;36m<cell line: 2>\u001b[0;34m()\u001b[0m\n\u001b[1;32m      <a href='vscode-notebook-cell:/Users/teo/Desktop/keystroke-bio/136M_eda.ipynb#W3sZmlsZQ%3D%3D?line=1'>2</a>\u001b[0m \u001b[39mfor\u001b[39;00m file \u001b[39min\u001b[39;00m file_list:\n\u001b[1;32m      <a href='vscode-notebook-cell:/Users/teo/Desktop/keystroke-bio/136M_eda.ipynb#W3sZmlsZQ%3D%3D?line=2'>3</a>\u001b[0m     \u001b[39mprint\u001b[39m(file)\n\u001b[0;32m----> <a href='vscode-notebook-cell:/Users/teo/Desktop/keystroke-bio/136M_eda.ipynb#W3sZmlsZQ%3D%3D?line=3'>4</a>\u001b[0m     df \u001b[39m=\u001b[39m pd\u001b[39m.\u001b[39;49mread_csv(\u001b[39m'\u001b[39;49m\u001b[39m./Keystrokes/files/\u001b[39;49m\u001b[39m'\u001b[39;49m\u001b[39m+\u001b[39;49mfile, sep\u001b[39m=\u001b[39;49m\u001b[39m'\u001b[39;49m\u001b[39m\\t\u001b[39;49;00m\u001b[39m'\u001b[39;49m, encoding\u001b[39m=\u001b[39;49m\u001b[39m'\u001b[39;49m\u001b[39municode_escape\u001b[39;49m\u001b[39m'\u001b[39;49m, quoting\u001b[39m=\u001b[39;49mcsv\u001b[39m.\u001b[39;49mQUOTE_NONE)\n\u001b[1;32m      <a href='vscode-notebook-cell:/Users/teo/Desktop/keystroke-bio/136M_eda.ipynb#W3sZmlsZQ%3D%3D?line=4'>5</a>\u001b[0m     key_count_dict\u001b[39m.\u001b[39mupdate(df[\u001b[39m'\u001b[39m\u001b[39mLETTER\u001b[39m\u001b[39m'\u001b[39m]\u001b[39m.\u001b[39mtolist())\n",
      "File \u001b[0;32m/opt/homebrew/anaconda3/envs/m1_ml/lib/python3.10/site-packages/pandas/util/_decorators.py:311\u001b[0m, in \u001b[0;36mdeprecate_nonkeyword_arguments.<locals>.decorate.<locals>.wrapper\u001b[0;34m(*args, **kwargs)\u001b[0m\n\u001b[1;32m    305\u001b[0m \u001b[39mif\u001b[39;00m \u001b[39mlen\u001b[39m(args) \u001b[39m>\u001b[39m num_allow_args:\n\u001b[1;32m    306\u001b[0m     warnings\u001b[39m.\u001b[39mwarn(\n\u001b[1;32m    307\u001b[0m         msg\u001b[39m.\u001b[39mformat(arguments\u001b[39m=\u001b[39marguments),\n\u001b[1;32m    308\u001b[0m         \u001b[39mFutureWarning\u001b[39;00m,\n\u001b[1;32m    309\u001b[0m         stacklevel\u001b[39m=\u001b[39mstacklevel,\n\u001b[1;32m    310\u001b[0m     )\n\u001b[0;32m--> 311\u001b[0m \u001b[39mreturn\u001b[39;00m func(\u001b[39m*\u001b[39;49margs, \u001b[39m*\u001b[39;49m\u001b[39m*\u001b[39;49mkwargs)\n",
      "File \u001b[0;32m/opt/homebrew/anaconda3/envs/m1_ml/lib/python3.10/site-packages/pandas/io/parsers/readers.py:678\u001b[0m, in \u001b[0;36mread_csv\u001b[0;34m(filepath_or_buffer, sep, delimiter, header, names, index_col, usecols, squeeze, prefix, mangle_dupe_cols, dtype, engine, converters, true_values, false_values, skipinitialspace, skiprows, skipfooter, nrows, na_values, keep_default_na, na_filter, verbose, skip_blank_lines, parse_dates, infer_datetime_format, keep_date_col, date_parser, dayfirst, cache_dates, iterator, chunksize, compression, thousands, decimal, lineterminator, quotechar, quoting, doublequote, escapechar, comment, encoding, encoding_errors, dialect, error_bad_lines, warn_bad_lines, on_bad_lines, delim_whitespace, low_memory, memory_map, float_precision, storage_options)\u001b[0m\n\u001b[1;32m    663\u001b[0m kwds_defaults \u001b[39m=\u001b[39m _refine_defaults_read(\n\u001b[1;32m    664\u001b[0m     dialect,\n\u001b[1;32m    665\u001b[0m     delimiter,\n\u001b[0;32m   (...)\u001b[0m\n\u001b[1;32m    674\u001b[0m     defaults\u001b[39m=\u001b[39m{\u001b[39m\"\u001b[39m\u001b[39mdelimiter\u001b[39m\u001b[39m\"\u001b[39m: \u001b[39m\"\u001b[39m\u001b[39m,\u001b[39m\u001b[39m\"\u001b[39m},\n\u001b[1;32m    675\u001b[0m )\n\u001b[1;32m    676\u001b[0m kwds\u001b[39m.\u001b[39mupdate(kwds_defaults)\n\u001b[0;32m--> 678\u001b[0m \u001b[39mreturn\u001b[39;00m _read(filepath_or_buffer, kwds)\n",
      "File \u001b[0;32m/opt/homebrew/anaconda3/envs/m1_ml/lib/python3.10/site-packages/pandas/io/parsers/readers.py:581\u001b[0m, in \u001b[0;36m_read\u001b[0;34m(filepath_or_buffer, kwds)\u001b[0m\n\u001b[1;32m    578\u001b[0m     \u001b[39mreturn\u001b[39;00m parser\n\u001b[1;32m    580\u001b[0m \u001b[39mwith\u001b[39;00m parser:\n\u001b[0;32m--> 581\u001b[0m     \u001b[39mreturn\u001b[39;00m parser\u001b[39m.\u001b[39;49mread(nrows)\n",
      "File \u001b[0;32m/opt/homebrew/anaconda3/envs/m1_ml/lib/python3.10/site-packages/pandas/io/parsers/readers.py:1253\u001b[0m, in \u001b[0;36mTextFileReader.read\u001b[0;34m(self, nrows)\u001b[0m\n\u001b[1;32m   1251\u001b[0m nrows \u001b[39m=\u001b[39m validate_integer(\u001b[39m\"\u001b[39m\u001b[39mnrows\u001b[39m\u001b[39m\"\u001b[39m, nrows)\n\u001b[1;32m   1252\u001b[0m \u001b[39mtry\u001b[39;00m:\n\u001b[0;32m-> 1253\u001b[0m     index, columns, col_dict \u001b[39m=\u001b[39m \u001b[39mself\u001b[39;49m\u001b[39m.\u001b[39;49m_engine\u001b[39m.\u001b[39;49mread(nrows)\n\u001b[1;32m   1254\u001b[0m \u001b[39mexcept\u001b[39;00m \u001b[39mException\u001b[39;00m:\n\u001b[1;32m   1255\u001b[0m     \u001b[39mself\u001b[39m\u001b[39m.\u001b[39mclose()\n",
      "File \u001b[0;32m/opt/homebrew/anaconda3/envs/m1_ml/lib/python3.10/site-packages/pandas/io/parsers/c_parser_wrapper.py:225\u001b[0m, in \u001b[0;36mCParserWrapper.read\u001b[0;34m(self, nrows)\u001b[0m\n\u001b[1;32m    223\u001b[0m \u001b[39mtry\u001b[39;00m:\n\u001b[1;32m    224\u001b[0m     \u001b[39mif\u001b[39;00m \u001b[39mself\u001b[39m\u001b[39m.\u001b[39mlow_memory:\n\u001b[0;32m--> 225\u001b[0m         chunks \u001b[39m=\u001b[39m \u001b[39mself\u001b[39;49m\u001b[39m.\u001b[39;49m_reader\u001b[39m.\u001b[39;49mread_low_memory(nrows)\n\u001b[1;32m    226\u001b[0m         \u001b[39m# destructive to chunks\u001b[39;00m\n\u001b[1;32m    227\u001b[0m         data \u001b[39m=\u001b[39m _concatenate_chunks(chunks)\n",
      "File \u001b[0;32m/opt/homebrew/anaconda3/envs/m1_ml/lib/python3.10/site-packages/pandas/_libs/parsers.pyx:805\u001b[0m, in \u001b[0;36mpandas._libs.parsers.TextReader.read_low_memory\u001b[0;34m()\u001b[0m\n",
      "File \u001b[0;32m/opt/homebrew/anaconda3/envs/m1_ml/lib/python3.10/site-packages/pandas/_libs/parsers.pyx:861\u001b[0m, in \u001b[0;36mpandas._libs.parsers.TextReader._read_rows\u001b[0;34m()\u001b[0m\n",
      "File \u001b[0;32m/opt/homebrew/anaconda3/envs/m1_ml/lib/python3.10/site-packages/pandas/_libs/parsers.pyx:847\u001b[0m, in \u001b[0;36mpandas._libs.parsers.TextReader._tokenize_rows\u001b[0;34m()\u001b[0m\n",
      "File \u001b[0;32m/opt/homebrew/anaconda3/envs/m1_ml/lib/python3.10/site-packages/pandas/_libs/parsers.pyx:1960\u001b[0m, in \u001b[0;36mpandas._libs.parsers.raise_parser_error\u001b[0;34m()\u001b[0m\n",
      "\u001b[0;31mParserError\u001b[0m: Error tokenizing data. C error: Expected 9 fields in line 144, saw 10\n"
     ]
    }
   ],
   "source": [
    "key_count_dict = Counter()\n",
    "for file in file_list:\n",
    "    print(file)\n",
    "    df = pd.read_csv('./Keystrokes/files/'+file, sep='\\t', encoding='unicode_escape', quoting=csv.QUOTE_NONE)\n",
    "    key_count_dict.update(df['LETTER'].tolist())"
   ]
  },
  {
   "cell_type": "code",
   "execution_count": 14,
   "metadata": {},
   "outputs": [],
   "source": [
    "df.to_excel('136M_sample.xlsx')"
   ]
  },
  {
   "cell_type": "code",
   "execution_count": null,
   "metadata": {},
   "outputs": [],
   "source": []
  }
 ],
 "metadata": {
  "kernelspec": {
   "display_name": "Python 3.10.4 ('m1_ml')",
   "language": "python",
   "name": "python3"
  },
  "language_info": {
   "codemirror_mode": {
    "name": "ipython",
    "version": 3
   },
   "file_extension": ".py",
   "mimetype": "text/x-python",
   "name": "python",
   "nbconvert_exporter": "python",
   "pygments_lexer": "ipython3",
   "version": "3.10.4"
  },
  "orig_nbformat": 4,
  "vscode": {
   "interpreter": {
    "hash": "ed9ac044c1c4bfd69a4553e5d3e8a2eae04839213d34d1a7b6b0102cc5f52573"
   }
  }
 },
 "nbformat": 4,
 "nbformat_minor": 2
}
