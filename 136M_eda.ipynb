{
 "cells": [
  {
   "cell_type": "code",
   "execution_count": 1,
   "metadata": {},
   "outputs": [],
   "source": [
    "import os\n",
    "import csv\n",
    "import pandas as pd\n",
    "\n",
    "from tqdm import tqdm\n",
    "from collections import Counter"
   ]
  },
  {
   "cell_type": "code",
   "execution_count": 2,
   "metadata": {},
   "outputs": [
    {
     "data": {
      "text/plain": [
       "168593"
      ]
     },
     "execution_count": 2,
     "metadata": {},
     "output_type": "execute_result"
    }
   ],
   "source": [
    "file_list = os.listdir('./Keystrokes/files/')\n",
    "file_list.remove('readme.txt')\n",
    "file_list.remove('metadata_participants.txt')\n",
    "len(file_list)"
   ]
  },
  {
   "cell_type": "code",
   "execution_count": 3,
   "metadata": {},
   "outputs": [],
   "source": [
    "# for file in file_list:\n",
    "#     print(file)\n",
    "#     df = pd.read_csv('./Keystrokes/files/' + file, sep='\\t', encoding=\"unicode_escape\", quoting=csv.QUOTE_NONE)"
   ]
  },
  {
   "cell_type": "code",
   "execution_count": 5,
   "metadata": {},
   "outputs": [
    {
     "name": "stderr",
     "output_type": "stream",
     "text": [
      "100%|██████████| 168593/168593 [03:23<00:00, 827.48it/s]\n"
     ]
    }
   ],
   "source": [
    "# preproc files\n",
    "for file in tqdm(file_list):\n",
    "\n",
    "    f = open('./Keystrokes/files/' + file, 'r', encoding='windows-1252')\n",
    "\n",
    "    # read file\n",
    "    content = f.read()\n",
    "    f.close()\n",
    "\n",
    "    # replace \\n\n",
    "    content = content.replace('\\t\\n\\t', '\\tnewline\\t')\n",
    "    content = content.replace('\\t\\t\\t', '\\ttab\\t')\n",
    "\n",
    "    # save file\n",
    "    f = open('./Keystroke_prc/' + file, 'w', encoding='windows-1252')\n",
    "    f.write(content)\n",
    "    f.close()\n"
   ]
  },
  {
   "cell_type": "code",
   "execution_count": 6,
   "metadata": {},
   "outputs": [
    {
     "name": "stderr",
     "output_type": "stream",
     "text": [
      "100%|██████████| 168593/168593 [04:31<00:00, 621.68it/s]\n"
     ]
    }
   ],
   "source": [
    "key_counter = Counter()\n",
    "failed_files = []\n",
    "failed_due_to_nan = []\n",
    "for file in tqdm(file_list):\n",
    "    try: \n",
    "        df = pd.read_csv('./Keystroke_prc/' + file , sep='\\t', encoding=\"windows-1252\", quoting=csv.QUOTE_NONE)\n",
    "\n",
    "        if df['KEYCODE'].isnull().values.any():\n",
    "            failed_due_to_nan.append((file, df['KEYCODE'].isnull().sum(), len(df)))\n",
    "            continue\n",
    "\n",
    "        key_counter.update(df['KEYCODE'].tolist())\n",
    "    except:\n",
    "        failed_files.append(file)"
   ]
  },
  {
   "cell_type": "code",
   "execution_count": 7,
   "metadata": {},
   "outputs": [
    {
     "name": "stdout",
     "output_type": "stream",
     "text": [
      "Failed due to nan 0\n",
      "Failed due to other 0\n"
     ]
    }
   ],
   "source": [
    "print(\"Failed due to nan\",  len(failed_due_to_nan))\n",
    "print(\"Failed due to other\", len(failed_files))"
   ]
  },
  {
   "cell_type": "code",
   "execution_count": 11,
   "metadata": {},
   "outputs": [
    {
     "data": {
      "text/plain": [
       "123108012"
      ]
     },
     "execution_count": 11,
     "metadata": {},
     "output_type": "execute_result"
    }
   ],
   "source": [
    "key_counter.most_common()\n",
    "key_presses_total = sum(key_counter.values())\n",
    "key_presses_total"
   ]
  },
  {
   "cell_type": "code",
   "execution_count": null,
   "metadata": {},
   "outputs": [],
   "source": [
    "from key_codes_js import key_codes_js\n",
    "\n",
    "# key_counter\n",
    "\n",
    "sum_of_keys = sum(key_counter.values())\n",
    "sum_of_keys"
   ]
  },
  {
   "cell_type": "code",
   "execution_count": null,
   "metadata": {},
   "outputs": [],
   "source": [
    "df.head()"
   ]
  },
  {
   "cell_type": "code",
   "execution_count": null,
   "metadata": {},
   "outputs": [],
   "source": [
    "key_counter = Counter()\n"
   ]
  },
  {
   "cell_type": "code",
   "execution_count": null,
   "metadata": {},
   "outputs": [],
   "source": [
    "# Transform to sequence dataset\n",
    "# Path: 136M_eda.ipynb\n",
    "grp_df = df.groupby(['PARTICIPANT_ID', 'TEST_SECTION_ID'])\n",
    "\n",
    "# iterate over each group\n",
    "for name, seq_group in grp_df:\n",
    "    print(\"Participant ID: \", name[0])\n",
    "    print(\"Test Section ID: \", name[1])\n",
    "    # iterate through seq_group\n",
    "    sequence = []\n",
    "    press_code = 1\n",
    "    release_code = 0\n",
    "    for index, row in seq_group.iterrows():\n",
    "        press_time = row['PRESS_TIME']\n",
    "        release_time = row['RELEASE_TIME']\n",
    "        keycode = row['KEYCODE']\n",
    "        sequence.append([press_time, press_code, keycode])\n",
    "        sequence.append([release_time, release_code, keycode])\n",
    "\n",
    "    # sort sequence by timea\n",
    "    sequence.sort(key=lambda x: x[0])\n",
    "\n",
    "    print(sequence)\n",
    "\n",
    "    # get typing features\n",
    "    # typing_features = session_to_features(sequence)\n",
    "\n",
    "    break\n",
    "\n"
   ]
  },
  {
   "cell_type": "markdown",
   "metadata": {},
   "source": [
    "#### Ways to improve\n",
    "Use a different feature selection/feature engineering method.\n",
    "\n",
    "\n",
    "Current metric treats the pressings as bigrams. Why not tri-grams or n-grams?"
   ]
  }
 ],
 "metadata": {
  "kernelspec": {
   "display_name": "Python 3.10.6 ('ml')",
   "language": "python",
   "name": "python3"
  },
  "language_info": {
   "codemirror_mode": {
    "name": "ipython",
    "version": 3
   },
   "file_extension": ".py",
   "mimetype": "text/x-python",
   "name": "python",
   "nbconvert_exporter": "python",
   "pygments_lexer": "ipython3",
   "version": "3.10.4"
  },
  "orig_nbformat": 4,
  "vscode": {
   "interpreter": {
    "hash": "5188bc372fa413aa2565ae5d28228f50ad7b2c4ebb4a82c5900fd598adbb6408"
   }
  }
 },
 "nbformat": 4,
 "nbformat_minor": 2
}
