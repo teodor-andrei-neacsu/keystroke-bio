{
 "cells": [
  {
   "cell_type": "code",
   "execution_count": 1,
   "metadata": {},
   "outputs": [],
   "source": [
    "import os\n",
    "import csv\n",
    "import pandas as pd\n",
    "\n",
    "from tqdm import tqdm\n",
    "from collections import Counter"
   ]
  },
  {
   "cell_type": "code",
   "execution_count": 2,
   "metadata": {},
   "outputs": [
    {
     "data": {
      "text/plain": [
       "168593"
      ]
     },
     "execution_count": 2,
     "metadata": {},
     "output_type": "execute_result"
    }
   ],
   "source": [
    "file_list = os.listdir('./Keystrokes/files/')\n",
    "file_list.remove('readme.txt')\n",
    "file_list.remove('metadata_participants.txt')\n",
    "len(file_list)"
   ]
  },
  {
   "cell_type": "code",
   "execution_count": 3,
   "metadata": {},
   "outputs": [
    {
     "name": "stderr",
     "output_type": "stream",
     "text": [
      "100%|██████████| 168593/168593 [03:27<00:00, 811.22it/s]\n"
     ]
    }
   ],
   "source": [
    "# preproc files\n",
    "for file in tqdm(file_list):\n",
    "\n",
    "    f = open('./Keystrokes/files/' + file, 'r', encoding='windows-1252')\n",
    "\n",
    "    # read file\n",
    "    content = f.read()\n",
    "    f.close()\n",
    "\n",
    "    # replace \\n\n",
    "    content = content.replace('\\t\\n\\t', '\\tnewline\\t')\n",
    "    content = content.replace('\\t\\t\\t', '\\ttab\\t')\n",
    "\n",
    "    # save file\n",
    "    f = open('./Keystroke_prc/' + file, 'w', encoding='windows-1252')\n",
    "    f.write(content)\n",
    "    f.close()\n"
   ]
  },
  {
   "cell_type": "code",
   "execution_count": 4,
   "metadata": {},
   "outputs": [],
   "source": [
    "\n",
    "def keystrokes_to_session(key_df: pd.DataFrame) -> pd.DataFrame:\n",
    "    \"\"\"\n",
    "    Transform a keystroke dataframe into session dataframe.\n",
    "    \"\"\"\n",
    "    grp_df = key_df.groupby(['PARTICIPANT_ID', 'TEST_SECTION_ID'])\n",
    "\n",
    "    # iterate over each group\n",
    "    press_code = 1\n",
    "    release_code = 0\n",
    "\n",
    "    session_data = []\n",
    "    \n",
    "    for name, seq_group in grp_df:\n",
    "        # iterate through seq_group\n",
    "        sequence = []\n",
    "        \n",
    "        for index, row in seq_group.iterrows():\n",
    "            press_time = row['PRESS_TIME']\n",
    "            release_time = row['RELEASE_TIME']\n",
    "            keycode = row['KEYCODE']\n",
    "            sequence.append([press_time, press_code, keycode])\n",
    "            sequence.append([release_time, release_code, keycode])\n",
    "\n",
    "        # sort sequence by timea\n",
    "        sequence.sort(key=lambda x: x[0])\n",
    "\n",
    "        # append to session_data\n",
    "        session_data.append([name[0], name[1], sequence])\n",
    "\n",
    "\n",
    "    sessions_df = pd.DataFrame(session_data, columns=['PARTICIPANT_ID', 'TEST_SECTION_ID', 'SEQUENCE'])\n",
    "\n",
    "    return sessions_df\n"
   ]
  },
  {
   "cell_type": "code",
   "execution_count": 5,
   "metadata": {},
   "outputs": [
    {
     "name": "stderr",
     "output_type": "stream",
     "text": [
      "100%|██████████| 168593/168593 [05:51<00:00, 479.54it/s]\n"
     ]
    }
   ],
   "source": [
    "from collections import defaultdict\n",
    "\n",
    "failed_files = []\n",
    "failed_due_to_nan = []\n",
    "\n",
    "# test_section_id: test_section_text\n",
    "test_section_dict = defaultdict(str)\n",
    "unique_count = Counter()\n",
    "\n",
    "\n",
    "for file in tqdm(file_list):\n",
    "    try: \n",
    "        df = pd.read_csv('./Keystroke_prc/' + file , sep='\\t', encoding=\"windows-1252\", quoting=csv.QUOTE_NONE)\n",
    "\n",
    "        gr_df = df.groupby(['TEST_SECTION_ID', 'SENTENCE'])\n",
    "\n",
    "\n",
    "        for name, seq_group in gr_df:\n",
    "            test_section_dict[name[0]] = name[1]\n",
    "            unique_count[name[0]] += 1\n",
    "\n",
    "        # # transform to session\n",
    "        # sessions_df = keystrokes_to_session(df)\n",
    "        # sessions_df.to_csv('./Keystroke_sessions/' + file, index=False)\n",
    "        \n",
    "        if df['KEYCODE'].isnull().values.any():\n",
    "            failed_due_to_nan.append((file, df['KEYCODE'].isnull().sum(), len(df)))\n",
    "            continue\n",
    "    except:\n",
    "        failed_files.append(file)"
   ]
  },
  {
   "cell_type": "code",
   "execution_count": null,
   "metadata": {},
   "outputs": [],
   "source": [
    "# dataframe with test_section_id and test_section_text\n",
    "test_section_df = pd.DataFrame.from_dict(test_section_dict, orient='index', columns=['SENTENCE'])[:100]\n",
    "test_section_df.to_excel('./Keystroke_test_section.xlsx', index=True)"
   ]
  },
  {
   "cell_type": "code",
   "execution_count": 16,
   "metadata": {},
   "outputs": [],
   "source": [
    "print(len(test_section_dict))\n",
    "print(len(unique_count))\n"
   ]
  },
  {
   "cell_type": "code",
   "execution_count": 7,
   "metadata": {},
   "outputs": [
    {
     "name": "stdout",
     "output_type": "stream",
     "text": [
      "Failed due to nan 0\n",
      "Failed due to other 0\n"
     ]
    }
   ],
   "source": [
    "print(\"Failed due to nan\",  len(failed_due_to_nan))\n",
    "print(\"Failed due to other\", len(failed_files))"
   ]
  },
  {
   "cell_type": "code",
   "execution_count": 11,
   "metadata": {},
   "outputs": [],
   "source": [
    "df = pd.read_csv('./Keystroke_sessions/' + file_list[0], encoding=\"windows-1252\")\n",
    "df.to_excel('./' + file_list[0] + '.xlsx', index=True)"
   ]
  },
  {
   "cell_type": "code",
   "execution_count": null,
   "metadata": {},
   "outputs": [],
   "source": []
  },
  {
   "cell_type": "markdown",
   "metadata": {},
   "source": []
  }
 ],
 "metadata": {
  "kernelspec": {
   "display_name": "Python 3.10.6 ('ml')",
   "language": "python",
   "name": "python3"
  },
  "language_info": {
   "codemirror_mode": {
    "name": "ipython",
    "version": 3
   },
   "file_extension": ".py",
   "mimetype": "text/x-python",
   "name": "python",
   "nbconvert_exporter": "python",
   "pygments_lexer": "ipython3",
   "version": "3.10.4"
  },
  "orig_nbformat": 4,
  "vscode": {
   "interpreter": {
    "hash": "5188bc372fa413aa2565ae5d28228f50ad7b2c4ebb4a82c5900fd598adbb6408"
   }
  }
 },
 "nbformat": 4,
 "nbformat_minor": 2
}
