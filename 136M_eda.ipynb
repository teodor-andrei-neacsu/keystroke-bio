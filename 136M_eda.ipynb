{
 "cells": [
  {
   "cell_type": "code",
   "execution_count": null,
   "metadata": {},
   "outputs": [],
   "source": [
    "import os\n",
    "import csv\n",
    "import pandas as pd\n",
    "\n",
    "from tqdm import tqdm\n",
    "from collections import Counter"
   ]
  },
  {
   "cell_type": "code",
   "execution_count": null,
   "metadata": {},
   "outputs": [],
   "source": [
    "file_list = os.listdir('./Keystrokes/files/')\n",
    "file_list.remove('readme.txt')\n",
    "file_list.remove('metadata_participants.txt')\n",
    "len(file_list)"
   ]
  },
  {
   "cell_type": "code",
   "execution_count": null,
   "metadata": {},
   "outputs": [],
   "source": [
    "for file in tqdm(file_list):\n",
    "\n",
    "    try: \n",
    "        df = pd.read_csv('./Keystrokes/files/' + file, sep='\\t', encoding=\"windows-1252\", quotechar='|', quoting=csv.QUOTE_NONE, usecols=[\"PARTICIPANT_ID\", \"TEST_SECTION_ID\", \"PRESS_TIME\", \"RELEASE_TIME\", \"KEYCODE\"])\n",
    "    except:\n",
    "        print(file)\n",
    "        break\n"
   ]
  },
  {
   "cell_type": "code",
   "execution_count": null,
   "metadata": {},
   "outputs": [],
   "source": [
    "df.head()"
   ]
  },
  {
   "cell_type": "code",
   "execution_count": 40,
   "metadata": {},
   "outputs": [],
   "source": [
    "def session_to_features(session):\n",
    "    typing_features = []\n",
    "    for idx, (tstamp, event, key) in enumerate(session):\n",
    "\n",
    "        if event == 1:\n",
    "            continue\n",
    "\n",
    "        # get the release event\n",
    "        for idx_rel, (tstamp_rel, event_rel, key_rel) in enumerate(session[idx + 1:]):\n",
    "            if event_rel == 1 and key_rel == key:\n",
    "\n",
    "                hl = tstamp_rel - tstamp\n",
    "                \n",
    "                # next pressed key\n",
    "                for idx_next, (tstamp_next, event_next, key_next) in enumerate(session[idx + 1:]):\n",
    "                    if event_next == 0 and key_next != key:\n",
    "\n",
    "                        il = tstamp_next - tstamp_rel\n",
    "                        pl = tstamp_next - tstamp\n",
    "\n",
    "                        # next release key\n",
    "                        for idx_next_rel, (tstamp_next_rel, event_next_rel, key_next_rel) in enumerate(session[idx + 1:]):\n",
    "                            if event_next_rel == 1 and key_next_rel == key_next:\n",
    "                                rl = tstamp_next_rel - tstamp_rel\n",
    "                                # print(\"key: {}, hold: {}, inter: {}, press: {}, release: {}\".format(key, hl, il, pl, rl))\n",
    "                                # transform to s\n",
    "                                typing_features.append([key, hl / 1000, il / 1000, pl / 1000, rl / 1000])\n",
    "                                break\n",
    "                        break\n",
    "                break\n",
    "    return typing_features"
   ]
  },
  {
   "cell_type": "code",
   "execution_count": 41,
   "metadata": {},
   "outputs": [
    {
     "name": "stdout",
     "output_type": "stream",
     "text": [
      "Participant ID:  426279\n",
      "Test Section ID:  4594212\n",
      "[[1477859450648, 0, 16], [1477859450880, 0, 65], [1477859451072, 1, 65], [1477859451088, 0, 78], [1477859451144, 1, 16], [1477859451200, 1, 78], [1477859451240, 0, 68], [1477859451384, 1, 68], [1477859451408, 0, 32], [1477859451528, 1, 32], [1477859452056, 0, 8], [1477859452152, 1, 8], [1477859452232, 0, 8], [1477859452336, 1, 8], [1477859452640, 0, 8], [1477859452696, 1, 8], [1477859452968, 0, 78], [1477859453104, 1, 78], [1477859453105, 0, 68], [1477859453256, 1, 68], [1477859453256, 0, 32], [1477859453368, 1, 32], [1477859453520, 0, 16], [1477859454312, 0, 73], [1477859454400, 1, 73], [1477859454456, 1, 16], [1477859454552, 0, 32], [1477859454688, 1, 32], [1477859454720, 0, 67], [1477859454855, 1, 67], [1477859454912, 0, 65], [1477859455040, 1, 65], [1477859455168, 0, 78], [1477859455304, 1, 78], [1477859455488, 0, 84], [1477859455591, 1, 84], [1477859456791, 0, 8], [1477859456840, 1, 8], [1477859457288, 0, 222], [1477859457376, 1, 222], [1477859457704, 0, 84], [1477859457791, 1, 84], [1477859457920, 0, 32], [1477859458031, 1, 32], [1477859458647, 0, 84], [1477859458736, 1, 84], [1477859459272, 0, 85], [1477859459351, 1, 85], [1477859459415, 0, 82], [1477859459527, 0, 78], [1477859459559, 1, 82], [1477859459679, 1, 78], [1477859459799, 0, 32], [1477859459919, 1, 32], [1477859460703, 0, 77], [1477859460823, 1, 77], [1477859460951, 0, 89], [1477859461031, 1, 89], [1477859461151, 0, 32], [1477859461287, 1, 32], [1477859461695, 0, 80], [1477859461775, 1, 80], [1477859462031, 0, 72], [1477859462127, 1, 72], [1477859462271, 0, 79], [1477859462351, 1, 79], [1477859462623, 0, 78], [1477859462751, 1, 78], [1477859462752, 0, 87], [1477859462895, 0, 32], [1477859462912, 1, 87], [1477859463023, 1, 32], [1477859463919, 0, 79], [1477859464007, 1, 79], [1477859464383, 0, 78], [1477859464471, 1, 78], [1477859465359, 0, 190], [1477859465455, 1, 190]]\n",
      "[[16, 0.496, -0.264, 0.232, -0.072], [65, 0.192, 0.016, 0.208, 0.128], [78, 0.112, 0.04, 0.152, 0.184], [68, 0.144, 0.024, 0.168, 0.144], [32, 0.12, 0.528, 0.648, 0.624], [8, 0.096, 0.816, 0.912, 0.952], [8, 0.104, 0.632, 0.736, 0.768], [8, 0.056, 0.272, 0.328, 0.408], [78, 0.136, 0.001, 0.137, 0.152], [68, 0.151, 0.0, 0.151, 0.112], [32, 0.112, 0.152, 0.264, 1.088], [16, 0.936, -0.144, 0.792, -0.056], [73, 0.088, 0.152, 0.24, 0.288], [32, 0.136, 0.032, 0.168, 0.167], [67, 0.135, 0.057, 0.192, 0.185], [65, 0.128, 0.128, 0.256, 0.264], [78, 0.136, 0.184, 0.32, 0.287], [84, 0.103, 1.2, 1.303, 1.249], [8, 0.049, 0.448, 0.497, 0.536], [222, 0.088, 0.328, 0.416, 0.415], [84, 0.087, 0.129, 0.216, 0.24], [32, 0.111, 0.616, 0.727, 0.705], [84, 0.089, 0.536, 0.625, 0.615], [85, 0.079, 0.064, 0.143, 0.208], [82, 0.144, -0.032, 0.112, 0.12], [78, 0.152, 0.12, 0.272, 0.24], [32, 0.12, 0.784, 0.904, 0.904], [77, 0.12, 0.128, 0.248, 0.208], [89, 0.08, 0.12, 0.2, 0.256], [32, 0.136, 0.408, 0.544, 0.488], [80, 0.08, 0.256, 0.336, 0.352], [72, 0.096, 0.144, 0.24, 0.224], [79, 0.08, 0.272, 0.352, 0.4], [78, 0.128, 0.001, 0.129, 0.161], [87, 0.16, -0.017, 0.143, 0.111], [32, 0.128, 0.896, 1.024, 0.984], [79, 0.088, 0.376, 0.464, 0.464], [78, 0.088, 0.888, 0.976, 0.984]]\n"
     ]
    }
   ],
   "source": [
    "# Transform to sequence dataset\n",
    "# Path: 136M_eda.ipynb\n",
    "grp_df = df.groupby(['PARTICIPANT_ID', 'TEST_SECTION_ID'])\n",
    "\n",
    "# iterate over each group\n",
    "for name, seq_group in grp_df:\n",
    "    print(\"Participant ID: \", name[0])\n",
    "    print(\"Test Section ID: \", name[1])\n",
    "    # iterate through seq_group\n",
    "    sequence = []\n",
    "    press_code = 0\n",
    "    release_code = 1\n",
    "    for index, row in seq_group.iterrows():\n",
    "        press_time = row['PRESS_TIME']\n",
    "        release_time = row['RELEASE_TIME']\n",
    "        keycode = row['KEYCODE']\n",
    "        sequence.append([press_time, press_code, keycode])\n",
    "        sequence.append([release_time, release_code, keycode])\n",
    "\n",
    "    # sort sequence by time\n",
    "    sequence.sort(key=lambda x: x[0])\n",
    "\n",
    "    print(sequence)\n",
    "\n",
    "    # get typing features\n",
    "    typing_features = session_to_features(sequence)\n",
    "\n",
    "    # print sequence\n",
    "    print(typing_features)\n",
    "\n",
    "    break\n",
    "\n"
   ]
  },
  {
   "cell_type": "markdown",
   "metadata": {},
   "source": [
    "#### Ways to improve\n",
    "Use a different feature selection/feature engineering method."
   ]
  },
  {
   "cell_type": "code",
   "execution_count": null,
   "metadata": {},
   "outputs": [],
   "source": []
  }
 ],
 "metadata": {
  "kernelspec": {
   "display_name": "Python 3.10.6 ('ml')",
   "language": "python",
   "name": "python3"
  },
  "language_info": {
   "codemirror_mode": {
    "name": "ipython",
    "version": 3
   },
   "file_extension": ".py",
   "mimetype": "text/x-python",
   "name": "python",
   "nbconvert_exporter": "python",
   "pygments_lexer": "ipython3",
   "version": "3.10.6"
  },
  "orig_nbformat": 4,
  "vscode": {
   "interpreter": {
    "hash": "5188bc372fa413aa2565ae5d28228f50ad7b2c4ebb4a82c5900fd598adbb6408"
   }
  }
 },
 "nbformat": 4,
 "nbformat_minor": 2
}
