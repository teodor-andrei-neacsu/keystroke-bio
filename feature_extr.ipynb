{
 "cells": [
  {
   "cell_type": "code",
   "execution_count": 2,
   "metadata": {},
   "outputs": [],
   "source": [
    "import pandas as pd"
   ]
  },
  {
   "cell_type": "code",
   "execution_count": 3,
   "metadata": {},
   "outputs": [
    {
     "data": {
      "text/html": [
       "<div>\n",
       "<style scoped>\n",
       "    .dataframe tbody tr th:only-of-type {\n",
       "        vertical-align: middle;\n",
       "    }\n",
       "\n",
       "    .dataframe tbody tr th {\n",
       "        vertical-align: top;\n",
       "    }\n",
       "\n",
       "    .dataframe thead th {\n",
       "        text-align: right;\n",
       "    }\n",
       "</style>\n",
       "<table border=\"1\" class=\"dataframe\">\n",
       "  <thead>\n",
       "    <tr style=\"text-align: right;\">\n",
       "      <th></th>\n",
       "      <th>Timestamp</th>\n",
       "      <th>EventType</th>\n",
       "      <th>Key</th>\n",
       "    </tr>\n",
       "  </thead>\n",
       "  <tbody>\n",
       "    <tr>\n",
       "      <th>0</th>\n",
       "      <td>1663153932505</td>\n",
       "      <td>256</td>\n",
       "      <td>A</td>\n",
       "    </tr>\n",
       "    <tr>\n",
       "      <th>1</th>\n",
       "      <td>1663153932619</td>\n",
       "      <td>257</td>\n",
       "      <td>A</td>\n",
       "    </tr>\n",
       "    <tr>\n",
       "      <th>2</th>\n",
       "      <td>1663153932654</td>\n",
       "      <td>256</td>\n",
       "      <td>L</td>\n",
       "    </tr>\n",
       "    <tr>\n",
       "      <th>3</th>\n",
       "      <td>1663153932767</td>\n",
       "      <td>257</td>\n",
       "      <td>L</td>\n",
       "    </tr>\n",
       "    <tr>\n",
       "      <th>4</th>\n",
       "      <td>1663153932810</td>\n",
       "      <td>256</td>\n",
       "      <td>A</td>\n",
       "    </tr>\n",
       "  </tbody>\n",
       "</table>\n",
       "</div>"
      ],
      "text/plain": [
       "       Timestamp  EventType Key\n",
       "0  1663153932505        256   A\n",
       "1  1663153932619        257   A\n",
       "2  1663153932654        256   L\n",
       "3  1663153932767        257   L\n",
       "4  1663153932810        256   A"
      ]
     },
     "execution_count": 3,
     "metadata": {},
     "output_type": "execute_result"
    }
   ],
   "source": [
    "test_df = pd.read_csv(\"key_test.csv\")\n",
    "test_df.head()"
   ]
  },
  {
   "cell_type": "code",
   "execution_count": 4,
   "metadata": {},
   "outputs": [
    {
     "data": {
      "text/plain": [
       "[(1663153932505, 256, 'A'),\n",
       " (1663153932619, 257, 'A'),\n",
       " (1663153932654, 256, 'L'),\n",
       " (1663153932767, 257, 'L'),\n",
       " (1663153932810, 256, 'A')]"
      ]
     },
     "execution_count": 4,
     "metadata": {},
     "output_type": "execute_result"
    }
   ],
   "source": [
    "# transform dataframe to list of tuples\n",
    "test_list = list(test_df.itertuples(index=False, name=None))\n",
    "test_list[:5]"
   ]
  },
  {
   "cell_type": "code",
   "execution_count": 10,
   "metadata": {},
   "outputs": [
    {
     "name": "stdout",
     "output_type": "stream",
     "text": [
      "key: A, hold: 114, inter: 35, press: 149, release: 148\n",
      "key: L, hold: 113, inter: 43, press: 156, release: 177\n",
      "key: A, hold: 134, inter: -290, press: -156, release: -177\n",
      "key: Space, hold: 114, inter: -466, press: -352, release: -353\n",
      "key: B, hold: 134, inter: -922, press: -788, release: -809\n",
      "key: A, hold: 137, inter: -996, press: -859, release: -883\n",
      "key: L, hold: 150, inter: -1004, press: -854, release: -870\n",
      "key: A, hold: 215, inter: -1413, press: -1198, release: -1300\n",
      "key: Space, hold: 118, inter: -1634, press: -1516, release: -1521\n",
      "key: P, hold: 133, inter: -1923, press: -1790, release: -1810\n",
      "key: O, hold: 98, inter: -2174, press: -2076, release: -2061\n",
      "key: R, hold: 79, inter: -2758, press: -2679, release: -2645\n",
      "key: T, hold: 85, inter: -2996, press: -2911, release: -2883\n",
      "key: O, hold: 95, inter: -3134, press: -3039, release: -3021\n",
      "key: C, hold: 113, inter: -3315, press: -3202, release: -3202\n",
      "key: A, hold: 112, inter: -3387, press: -3275, release: -3274\n",
      "key: L, hold: 90, inter: -3342, press: -3252, release: -3208\n",
      "key: A, hold: 107, inter: -3679, press: -3572, release: -3566\n",
      "key: Space, hold: 79, inter: -3817, press: -3738, release: -3704\n",
      "key: M, hold: 89, inter: -4001, press: -3912, release: -3888\n",
      "key: A, hold: 112, inter: -4117, press: -4005, release: -4004\n",
      "key: Space, hold: 51, inter: -4172, press: -4121, release: -4059\n",
      "key: I, hold: 77, inter: -4375, press: -4298, release: -4262\n",
      "key: E, hold: 71, inter: -4473, press: -4402, release: -4360\n",
      "key: I, hold: 110, inter: -4606, press: -4496, release: -4493\n",
      "key: Space, hold: 103, inter: -4785, press: -4682, release: -4672\n",
      "key: D, hold: 82, inter: -4884, press: -4802, release: -4771\n",
      "key: E, hold: 52, inter: -4939, press: -4887, release: -4826\n",
      "key: Space, hold: 120, inter: -5076, press: -4956, release: -4963\n",
      "key: P, hold: 135, inter: -5345, press: -5210, release: -5232\n",
      "key: L, hold: 112, inter: -5235, press: -5123, release: -5101\n",
      "key: M, hold: 142, inter: -36124, press: -35982, release: -36011\n",
      "key: I, hold: 97, inter: -36197, press: -36100, release: -36084\n",
      "key: L, hold: 107, inter: -36260, press: -36153, release: -36126\n",
      "key: B, hold: 131, inter: -36619, press: -36488, release: -36506\n",
      "key: E, hold: 140, inter: -36549, press: -36409, release: -36415\n",
      "key: I, hold: 78, inter: -36772, press: -36694, release: -36659\n"
     ]
    }
   ],
   "source": [
    "\n",
    "for idx, (tstamp, event, key) in enumerate(test_list):\n",
    "\n",
    "    if event == 257:\n",
    "        continue\n",
    "\n",
    "    # get the release event\n",
    "    for idx_rel, (tstamp_rel, event_rel, key_rel) in enumerate(test_list[idx + 1:]):\n",
    "        if event_rel == 257 and key_rel == key:\n",
    "\n",
    "            hl = tstamp_rel - tstamp\n",
    "            \n",
    "            # next pressed key\n",
    "            for idx_next, (tstamp_next, event_next, key_next) in enumerate(test_list[idx_rel + 1:]):\n",
    "                if event_next == 256 and key_next != key:\n",
    "\n",
    "                    il = tstamp_next - tstamp_rel\n",
    "                    pl = tstamp_next - tstamp\n",
    "\n",
    "                    # next release key\n",
    "                    for idx_next_rel, (tstamp_next_rel, event_next_rel, key_next_rel) in enumerate(test_list[idx_next + 1:]):\n",
    "                        if event_next_rel == 257 and key_next_rel == key_next:\n",
    "                            rl = tstamp_next_rel - tstamp_rel\n",
    "                            print(\"key: {}, hold: {}, inter: {}, press: {}, release: {}\".format(key, hl, il, pl, rl))\n",
    "                            break\n",
    "                    break\n",
    "            break\n",
    "\n",
    "            \n",
    "\n",
    "\n",
    "    "
   ]
  },
  {
   "cell_type": "code",
   "execution_count": null,
   "metadata": {},
   "outputs": [],
   "source": []
  }
 ],
 "metadata": {
  "kernelspec": {
   "display_name": "Python 3.10.6 ('ml')",
   "language": "python",
   "name": "python3"
  },
  "language_info": {
   "codemirror_mode": {
    "name": "ipython",
    "version": 3
   },
   "file_extension": ".py",
   "mimetype": "text/x-python",
   "name": "python",
   "nbconvert_exporter": "python",
   "pygments_lexer": "ipython3",
   "version": "3.10.6"
  },
  "orig_nbformat": 4,
  "vscode": {
   "interpreter": {
    "hash": "5188bc372fa413aa2565ae5d28228f50ad7b2c4ebb4a82c5900fd598adbb6408"
   }
  }
 },
 "nbformat": 4,
 "nbformat_minor": 2
}
